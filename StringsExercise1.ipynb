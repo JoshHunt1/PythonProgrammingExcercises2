{
 "cells": [
  {
   "cell_type": "markdown",
   "metadata": {},
   "source": [
    "# Strings Exercise 1"
   ]
  },
  {
   "cell_type": "code",
   "execution_count": 1,
   "metadata": {},
   "outputs": [],
   "source": [
    "# create a variable with the data type string\n",
    "myString = \"hello world\"\n",
    "userName = \"Fred\"\n",
    "words = \"this is a bunch of words\"\n",
    "question = \"what is the capital of Spain?\"\n",
    "age = 10"
   ]
  },
  {
   "cell_type": "code",
   "execution_count": null,
   "metadata": {},
   "outputs": [],
   "source": [
    "# functions i can use to output input and do other things with strings\n",
    "# output\n",
    "print(words)\n",
    "print(words + question)\n",
    "# printinghardcoded stuff and variables\n",
    "print(\"hello user\", userName)\n",
    "print(\"hello user\"+ userName)\n",
    "print(\"hello user aged\", age) # works\n",
    "print(\"hello user\", age) # does not work"
   ]
  },
  {
   "cell_type": "code",
   "execution_count": null,
   "metadata": {},
   "outputs": [],
   "source": [
    "# convert an int into a string using a FUNCTION\n",
    "print(\"hello user of age \" + str(age)) # first turn the age number into a string and then concatenate\n"
   ]
  },
  {
   "cell_type": "code",
   "execution_count": 2,
   "metadata": {},
   "outputs": [
    {
     "name": "stdout",
     "output_type": "stream",
     "text": [
      "what is your name? josh\n",
      "josh\n",
      "what is your age? 10\n",
      "10\n"
     ]
    }
   ],
   "source": [
    "userName = input(\"what is your name? \")\n",
    "print(userName)\n",
    "age = int(input(\"what is your age? \")) # if we want to use age as a number\n",
    "print(age)"
   ]
  },
  {
   "cell_type": "raw",
   "metadata": {},
   "source": []
  }
 ],
 "metadata": {
  "kernelspec": {
   "display_name": "Python 3",
   "language": "python",
   "name": "python3"
  },
  "language_info": {
   "codemirror_mode": {
    "name": "ipython",
    "version": 3
   },
   "file_extension": ".py",
   "mimetype": "text/x-python",
   "name": "python",
   "nbconvert_exporter": "python",
   "pygments_lexer": "ipython3",
   "version": "3.5.2"
  }
 },
 "nbformat": 4,
 "nbformat_minor": 2
}
