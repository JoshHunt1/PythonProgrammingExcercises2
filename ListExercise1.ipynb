{
 "cells": [
  {
   "cell_type": "markdown",
   "metadata": {},
   "source": [
    "# List exercises"
   ]
  },
  {
   "cell_type": "code",
   "execution_count": 10,
   "metadata": {},
   "outputs": [],
   "source": [
    "# declare some variables that are lists\n",
    "myNumberList = [1,2,3,4,5,6,7,8,9]\n",
    "myNameList = [\"alfie\", \"batten\", \"carl\", \"dick\", \"elena\", \"frog\"]"
   ]
  },
  {
   "cell_type": "code",
   "execution_count": 11,
   "metadata": {},
   "outputs": [
    {
     "name": "stdout",
     "output_type": "stream",
     "text": [
      "[1, 2, 3, 4, 5, 6, 7, 8, 9]\n",
      "['alfie', 'batten', 'carl', 'dick', 'elena', 'frog']\n"
     ]
    }
   ],
   "source": [
    "print(myNumberList)\n",
    "print(myNameList)"
   ]
  },
  {
   "cell_type": "code",
   "execution_count": 12,
   "metadata": {},
   "outputs": [
    {
     "name": "stdout",
     "output_type": "stream",
     "text": [
      "alfie\n",
      "batten\n",
      "carl\n",
      "dick\n",
      "elena\n",
      "frog\n"
     ]
    }
   ],
   "source": [
    "# output the list, one element at a time\n",
    "# use a fro loop and iterate through the list\n",
    "for item in (myNameList):\n",
    "    print(item)"
   ]
  },
  {
   "cell_type": "code",
   "execution_count": 13,
   "metadata": {},
   "outputs": [
    {
     "name": "stdout",
     "output_type": "stream",
     "text": [
      "alfie batten carl dick elena frog "
     ]
    }
   ],
   "source": [
    "for item in (myNameList):\n",
    "    print(item, end=' ')"
   ]
  },
  {
   "cell_type": "code",
   "execution_count": 14,
   "metadata": {},
   "outputs": [
    {
     "name": "stdout",
     "output_type": "stream",
     "text": [
      "6\n",
      "9\n"
     ]
    }
   ],
   "source": [
    "# how do we find out howmany elements a list has?\n",
    "x = len(myNameList)\n",
    "print(x)\n",
    "y = len(myNumberList)\n",
    "print(y)"
   ]
  },
  {
   "cell_type": "code",
   "execution_count": 16,
   "metadata": {},
   "outputs": [
    {
     "name": "stdout",
     "output_type": "stream",
     "text": [
      "alfie\n",
      "batten\n",
      "carl\n",
      "dick\n",
      "elena\n",
      "frog\n"
     ]
    }
   ],
   "source": [
    "# how to print every second element of the list\n",
    "for i in range(len(myNameList)):\n",
    "    print(myNameList[i])"
   ]
  },
  {
   "cell_type": "code",
   "execution_count": 15,
   "metadata": {},
   "outputs": [
    {
     "name": "stdout",
     "output_type": "stream",
     "text": [
      "0 6 2\n",
      "alfie\n",
      "0 6 2\n",
      "batten\n",
      "0 6 2\n",
      "carl\n",
      "0 6 2\n",
      "dick\n",
      "0 6 2\n",
      "elena\n",
      "0 6 2\n",
      "frog\n"
     ]
    }
   ],
   "source": [
    "for i in range(len(myNameList)):\n",
    "    print(0, len(myNameList), 2)\n",
    "    print(myNameList[i])"
   ]
  }
 ],
 "metadata": {
  "kernelspec": {
   "display_name": "Python 3",
   "language": "python",
   "name": "python3"
  },
  "language_info": {
   "codemirror_mode": {
    "name": "ipython",
    "version": 3
   },
   "file_extension": ".py",
   "mimetype": "text/x-python",
   "name": "python",
   "nbconvert_exporter": "python",
   "pygments_lexer": "ipython3",
   "version": "3.5.2"
  }
 },
 "nbformat": 4,
 "nbformat_minor": 2
}
